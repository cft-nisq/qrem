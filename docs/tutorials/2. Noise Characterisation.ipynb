{
 "cells": [
  {
   "attachments": {},
   "cell_type": "markdown",
   "metadata": {},
   "source": [
    "# Noise Characterisation Tutorial\n",
    "\n",
    "The purpose of this tutorial is to demonstrate the basic workflow of the QREM characterization module.\n"
   ]
  },
  {
   "cell_type": "code",
   "execution_count": 1,
   "metadata": {},
   "outputs": [],
   "source": [
    "import numpy as np\n",
    "\n",
    "\n",
    "\n",
    "from typing import Dict, Tuple, List\n",
    "from qrem.qtypes.characterization_data import CharacterizationData \n",
    "from qrem.characterization import characterization\n",
    "from  qrem.common import probability, math as qrem_math\n",
    "from qrem.cn import simulation as cnsimulation \n",
    "from qrem.providers import simulation as simulate_experiment\n",
    "from qrem.common.printer import qprint, qprint_array\n",
    "from qrem.qtypes import CNModelData\n",
    "from datetime import date\n",
    "from typing import Tuple, Dict, List, Optional, Type \n",
    "from qrem.common.printer import qprint\n",
    "from qrem.visualisation import benchmark_plots_functions as plot_functions\n"
   ]
  },
  {
   "attachments": {},
   "cell_type": "markdown",
   "metadata": {},
   "source": [
    "###List of contents \n",
    "\n",
    "1. [Data generation for characterization routine](#Setup)\n",
    "\n",
    "2. [Analysis of the experimental data](#Characterization)\n",
    "\n",
    "    2.1 [Initial steps](#Characterization)\n",
    "   \n",
    "    2.2 [Marginals computation](#Marginals)\n",
    "    \n",
    "    2.3 [Calculation of reduced POVMs and noise matrices](#RPOVMs)\n",
    "    \n",
    "    2.4 [Calculation of POVM distances](#POVMsDistances)\n",
    "      \n",
    "    2.5 [Calculation of correlation coefficients](#CorrelationCoefficients)\n",
    "\n",
    "    2.6 [CN noise model reconstruction](#CNnoisereconstruction)\n",
    "    \n"
   ]
  },
  {
   "attachments": {},
   "cell_type": "markdown",
   "metadata": {},
   "source": [
    "<a id='Setup'></a>\n",
    "\n",
    "## Data generation for characterization routine\n",
    "\n",
    "This part of code is used to generate data for the characterization workflow. It uses QREM simulator of the readout noise."
   ]
  },
  {
   "cell_type": "code",
   "execution_count": 2,
   "metadata": {},
   "outputs": [
    {
     "name": "stdout",
     "output_type": "stream",
     "text": [
      "WARNING: Possible count of random circuits (200) is lower than desired total circuit count (1315).\n",
      "10\n",
      "completeness: True\n",
      "Adding 190 random circuits to a 10-element set\n",
      "Set of 200 circuits, completeness: True\n",
      "noisy results generated in: 8.549237251281738 seconds\n"
     ]
    }
   ],
   "source": [
    "\n",
    "number_of_qubits = 10\n",
    "\n",
    "experiment_type = \"DDOT\"\n",
    "\n",
    "number_of_circuits = 200\n",
    "\n",
    "number_of_shots = 10**4\n",
    "\n",
    "include_benchmark_circuits = False\n",
    "\n",
    "number_of_benchmark_circuits = 10\n",
    "\n",
    "number_of_3_qubit_clusters = 1\n",
    "\n",
    "number_of_2_qubit_clusters = 3\n",
    "\n",
    "number_of_1_qubit_clusters = 1\n",
    "\n",
    "noise_model_simulation=cnsimulation.create_random_noise_model(number_of_qubits=number_of_qubits,clusters_specification=[[3,number_of_3_qubit_clusters], [2, number_of_2_qubit_clusters], [1, number_of_1_qubit_clusters]])\n",
    "\n",
    "characterization_data_container = CharacterizationData()\n",
    "\n",
    "characterization_data_container.experiment_type = 'DDOT' \n",
    "\n",
    "characterization_data_container.results_dictionary = simulate_experiment.simulate_noisy_experiment(noise_model=noise_model_simulation,number_of_circuits=number_of_circuits,number_of_shots=number_of_shots).counts\n"
   ]
  },
  {
   "attachments": {},
   "cell_type": "markdown",
   "metadata": {},
   "source": [
    "<a id='Characterization'></a>\n",
    "\n",
    "## Characterization Routine \n",
    "\n",
    "\n",
    "### Initial steps \n",
    "\n",
    "To perform characterization one needs to specify:\n",
    "\n",
    "1. qubit_indices - a list of indices of qubits of interest (one might be interested in a subset of all qubits of a device). Here we are interested in all qubits.\n",
    "\n",
    "2. marginals_to_compute - a list of tuples encoding qubit marginals for which relevant noise quantifiers are computed. Here the focus is on at most two qubit quantities and the list is as composition of single- and two-qubit marginals. \n"
   ]
  },
  {
   "cell_type": "code",
   "execution_count": 3,
   "metadata": {},
   "outputs": [],
   "source": [
    "qubit_indices = [i for i in range(number_of_qubits)]\n",
    "\n",
    "single_qubit_marginals = [(i,) for i in range(number_of_qubits)]\n",
    "\n",
    "two_qubit_marginals = [(i, j) for i in range(number_of_qubits) for j in range(i + 1, number_of_qubits)]\n",
    "\n",
    "marginals_to_compute= single_qubit_marginals + two_qubit_marginals"
   ]
  },
  {
   "attachments": {},
   "cell_type": "markdown",
   "metadata": {},
   "source": [
    "<a id='Marginals'></a>\n",
    "\n",
    "### Marginals coputation\n",
    "\n",
    "Marginals computation is performed using compute_marginals_single function of probability submodule. One needs to specify:\n",
    "\n",
    "\n",
    "1. results_dictionary - dictionary storing experimental results. Here it is characterization_data_container.results_dictionary.\n",
    "\n",
    "2. subsets_list - a list of tuples encoding marginals of interest. Here set to marginals_to_compute. \n",
    "\n",
    "3. normalization - a bool specifying whether marginals are normalized. Here set to True. "
   ]
  },
  {
   "cell_type": "code",
   "execution_count": 4,
   "metadata": {},
   "outputs": [],
   "source": [
    "characterization_data_container.marginals_dictionary = probability.compute_marginals_single(results_dictionary=characterization_data_container.results_dictionary,subsets_list=marginals_to_compute,normalization=True)"
   ]
  },
  {
   "attachments": {},
   "cell_type": "markdown",
   "metadata": {},
   "source": [
    "<a id='RPOVMs'></a>\n",
    "\n",
    "### Computation of reduced POVMs and nosie matrices \n",
    "\n",
    "Computation of the reduced POVMs and noise matrices is performed using compute_reduced_POVMs_and_noise_matrices. One needs to specify:\n",
    "\n",
    "1. characterization_data - results and marginals data stored in an object of the CharacterizationData class, here characterization_data_container\n",
    "\n",
    "2. subset_of_qubits - list of marginals of interest, here marginals_to_compute "
   ]
  },
  {
   "cell_type": "code",
   "execution_count": 5,
   "metadata": {},
   "outputs": [
    {
     "name": "stderr",
     "output_type": "stream",
     "text": [
      "100%|██████████| 55/55 [00:00<00:00, 3993.54it/s]\n"
     ]
    }
   ],
   "source": [
    "\n",
    "   \n",
    "noise_matrices_dictionary, POVMs_dictionary = characterization.compute_reduced_POVMs_and_noise_matrices(characterization_data=characterization_data_container,subset_of_qubits=marginals_to_compute)\n",
    "\n",
    "\n",
    "characterization_data_container.POVMs_dictionary = POVMs_dictionary\n",
    "\n",
    "\n",
    "characterization_data_container.noise_matrices_dictionary = noise_matrices_dictionary"
   ]
  },
  {
   "attachments": {},
   "cell_type": "markdown",
   "metadata": {},
   "source": [
    "<a id='POVMsDistances'></a>\n",
    "\n",
    "### Computation of POVMs errors\n",
    "\n",
    "Distance computation between ideal projectors in the computational basis and reconstructed noisy reduced POVMs is computed by compute_errors_POVMs function. One needs to specify:\n",
    "\n",
    "1. POVMs_dictionary - dictionary with reconstructed POVMs, here characterization_data_container.POVMs_dictionary\n",
    "\n",
    "2. qubits_subsets - list of tuples encoding marginals of interest, here set to single_qubit_marginals  \n",
    "\n",
    "3. distances_types - a list of tuples encoding distances of interest. Possible choices\n",
    "    \n",
    "    first position:  \"worst_case\" and \"averaged_case\" \n",
    "\n",
    "    second position: \"classical\" and \"quantum\"\n",
    "\n",
    "    Here set to ('worst_case','classical')\n"
   ]
  },
  {
   "cell_type": "code",
   "execution_count": 6,
   "metadata": {},
   "outputs": [
    {
     "name": "stdout",
     "output_type": "stream",
     "text": [
      "\u001b[31m\u001b[1m\n",
      "Calculating errors of type:\u001b[0m ('worst_case', 'classical')\n"
     ]
    },
    {
     "name": "stderr",
     "output_type": "stream",
     "text": [
      "100%|██████████| 10/10 [00:00<00:00, 12756.40it/s]"
     ]
    },
    {
     "name": "stdout",
     "output_type": "stream",
     "text": [
      "\u001b[36m\u001b[1mDONE\u001b[0m\n"
     ]
    },
    {
     "name": "stderr",
     "output_type": "stream",
     "text": [
      "\n"
     ]
    }
   ],
   "source": [
    "distances_types = [('worst_case','classical')] \n",
    "\n",
    "characterization_data_container.POMVs_errors_dictionary = characterization.compute_errors_POVMs(POVMs_dictionary=characterization_data_container.POVMs_dictionary,qubits_subsets=single_qubit_marginals,distances_types=distances_types)\n"
   ]
  },
  {
   "attachments": {},
   "cell_type": "markdown",
   "metadata": {},
   "source": [
    "The results can be plotted using built-in visualization function"
   ]
  },
  {
   "cell_type": "code",
   "execution_count": 7,
   "metadata": {},
   "outputs": [
    {
     "name": "stderr",
     "output_type": "stream",
     "text": [
      "/home/tuzjan/Documents/QREM_DEVELOPMENT/QREM_SECRET_DEVELOPMENT/venv_jtdev/lib/python3.10/site-packages/matplotlib/axes/_axes.py:6805: RuntimeWarning: invalid value encountered in multiply\n",
      "  tops = (tops * np.diff(bins))[:, slc].cumsum(axis=1)[:, slc]\n"
     ]
    },
    {
     "data": {
      "image/png": "[encoded data removed]",
      "text/plain": [
       "<Figure size 640x480 with 1 Axes>"
      ]
     },
     "metadata": {},
     "output_type": "display_data"
    },
    {
     "data": {
      "text/plain": [
       "<Figure size 640x480 with 0 Axes>"
      ]
     },
     "metadata": {},
     "output_type": "display_data"
    }
   ],
   "source": [
    "plot_functions.create_POVMs_distance_histogram(POVMs_errors=characterization_data_container.POMVs_errors_dictionary,number_of_qubits=number_of_qubits)"
   ]
  },
  {
   "attachments": {},
   "cell_type": "markdown",
   "metadata": {},
   "source": [
    "<a id='CorrelationCoefficients'></a>\n",
    "\n",
    "### Computation of correlation coefficients\n",
    "\n",
    "Correlation coefficients, which quantify pairwise correlations in the readout noise, are computed using compute_correlations_data_pairs function. One needs to specify:\n",
    "\n",
    " 1. qubit_indices - a list of qubits of interest. Here set to qubit_indices, this is all qubits\n",
    "\n",
    " 2. POVMs_dictionary - dictionary with reconstructed POVMs, here characterization_data_container.POVMs_dictionary\n",
    "\n",
    " 3. distances_types - a list of tuples encoding distances of interest. Possible choices described above\n",
    "\n",
    "    Here set to ('worst_case','classical')"
   ]
  },
  {
   "cell_type": "code",
   "execution_count": 8,
   "metadata": {},
   "outputs": [
    {
     "name": "stdout",
     "output_type": "stream",
     "text": [
      "\u001b[31m\u001b[1m\n",
      "Calculating correlations of type:\u001b[0m ('worst_case', 'classical')\n"
     ]
    },
    {
     "name": "stderr",
     "output_type": "stream",
     "text": [
      "100%|██████████| 45/45 [00:00<00:00, 2477.44it/s]"
     ]
    },
    {
     "name": "stdout",
     "output_type": "stream",
     "text": [
      "\u001b[36m\u001b[1mDONE\u001b[0m\n"
     ]
    },
    {
     "name": "stderr",
     "output_type": "stream",
     "text": [
      "\n"
     ]
    }
   ],
   "source": [
    "characterization_data_container.correlation_coefficients_dictionary  = characterization.compute_correlations_data_pairs(qubit_indices=qubit_indices,POVMs_dictionary=characterization_data_container.POVMs_dictionary,distances_types=distances_types)\n"
   ]
  },
  {
   "attachments": {},
   "cell_type": "markdown",
   "metadata": {},
   "source": [
    "The results can be plotted using built-in visualization function"
   ]
  },
  {
   "cell_type": "code",
   "execution_count": 9,
   "metadata": {},
   "outputs": [
    {
     "data": {
      "image/png": "[encoded data removed]",
      "text/plain": [
       "<Figure size 640x480 with 1 Axes>"
      ]
     },
     "metadata": {},
     "output_type": "display_data"
    },
    {
     "data": {
      "text/plain": [
       "<Figure size 640x480 with 0 Axes>"
      ]
     },
     "metadata": {},
     "output_type": "display_data"
    }
   ],
   "source": [
    "plot_functions.create_correlations_distance_histogram(correlations_coefficients_matrix=characterization_data_container.correlation_coefficients_dictionary[distances_types[0][0]][distances_types[0][1]])"
   ]
  },
  {
   "attachments": {},
   "cell_type": "markdown",
   "metadata": {},
   "source": [
    "<a id='CNnoisereconstruction)'></a>\n",
    "\n",
    "### CN noise models reconstruction \n",
    "\n",
    "Clustering algorithm is run to reconstruct CN noise models from experimental data. Function perform_clustering_routine returns a list of object, which store all relevant parameters of the reconstructed CN noise models. One needs to specify:\n",
    "\n",
    "1. characterization_data - characterization_data - results and marginals data stored in an object of the CharacterizationData class, here characterization_data_container\n",
    "\n",
    "2. number_of_qubits - integer encoding number of qubits involved \n",
    "\n",
    "3. clustering_functions_parameters  - a dictionary specifying parameters of the clustering algorithm with keys:\n",
    "     \n",
    "     'sizes_clusters' - a list of integers specifying allowed localities of the CN noise models, here set to [2,3,4]\n",
    "     \n",
    "     'distance_type' and 'correlations_type'  - string encoding distance type used to compute correlation coefficients, here  'worst_case' and 'classical'\n",
    "     \n",
    "     'alpha_hyperparameters' - a list of floats encoding parameter entering optimization involved in clustering, here and by default set [0] }\n",
    "\n",
    "4. find_neighbors - bool specifying whether neighborhoods of clusters are established, here set to False \n",
    "\n"
   ]
  },
  {
   "cell_type": "code",
   "execution_count": 10,
   "metadata": {},
   "outputs": [
    {
     "name": "stdout",
     "output_type": "stream",
     "text": [
      "\u001b[31m\u001b[1m\n",
      "Current max cluster size:\u001b[0m 2\n",
      "\u001b[31m\u001b[1m\n",
      "Current max cluster size:\u001b[0m 3\n",
      "\u001b[31m\u001b[1m\n",
      "Current max cluster size:\u001b[0m 4\n"
     ]
    }
   ],
   "source": [
    "clustering_functions_parameters = {'sizes_clusters':[2,3,4],'distance_type':'worst_case','correlations_type': 'classical','alpha_hyperparameters': [0] }\n",
    "\n",
    "find_neighbors = False\n",
    "\n",
    "characterization_data_container.clusters_neighbors_sets_dictionary = characterization.perform_clustering_routine(characterization_data = characterization_data_container, number_of_qubits=number_of_qubits,clustering_functions_parameters = clustering_functions_parameters,perform_neighbors_search=find_neighbors)\n",
    "\n"
   ]
  }
 ],
 "metadata": {
  "kernelspec": {
   "display_name": "venv_dev",
   "language": "python",
   "name": "venv_dev"
  },
  "language_info": {
   "codemirror_mode": {
    "name": "ipython",
    "version": 3
   },
   "file_extension": ".py",
   "mimetype": "text/x-python",
   "name": "python",
   "nbconvert_exporter": "python",
   "pygments_lexer": "ipython3",
   "version": "3.10.11"
  }
 },
 "nbformat": 4,
 "nbformat_minor": 2
}
